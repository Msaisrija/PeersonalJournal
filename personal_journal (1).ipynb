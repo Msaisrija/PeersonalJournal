{
 "cells": [
  {
   "cell_type": "code",
   "execution_count": 1,
   "id": "29a60ea8-2260-4d00-aab5-55406da8596c",
   "metadata": {},
   "outputs": [
    {
     "name": "stdout",
     "output_type": "stream",
     "text": [
      "\n",
      "--- Personal Journal ---\n",
      "1. Write a new journal entry\n",
      "2. View a journal entry by date\n",
      "0. Exit\n"
     ]
    },
    {
     "name": "stdin",
     "output_type": "stream",
     "text": [
      "Choose an option:  1\n",
      "Enter the date for the entry (YYYY-MM-DD) or press Enter for today's date:  2023-10-12\n",
      "Write your journal entry for 2023-10-12:\n",
      " Completion of LinearRegression Assignments\n"
     ]
    },
    {
     "name": "stdout",
     "output_type": "stream",
     "text": [
      "Journal entry saved for 2023-10-12.\n",
      "\n",
      "--- Personal Journal ---\n",
      "1. Write a new journal entry\n",
      "2. View a journal entry by date\n",
      "0. Exit\n"
     ]
    },
    {
     "name": "stdin",
     "output_type": "stream",
     "text": [
      "Choose an option:  1\n",
      "Enter the date for the entry (YYYY-MM-DD) or press Enter for today's date:  2023-12-10\n",
      "Write your journal entry for 2023-12-10:\n",
      " Submission of OOPs Assignment\n"
     ]
    },
    {
     "name": "stdout",
     "output_type": "stream",
     "text": [
      "Journal entry saved for 2023-12-10.\n",
      "\n",
      "--- Personal Journal ---\n",
      "1. Write a new journal entry\n",
      "2. View a journal entry by date\n",
      "0. Exit\n"
     ]
    },
    {
     "name": "stdin",
     "output_type": "stream",
     "text": [
      "Choose an option:  2\n",
      "Enter the date of the journal entry you want to view (YYYY-MM-DD):  2023-10-12\n"
     ]
    },
    {
     "name": "stdout",
     "output_type": "stream",
     "text": [
      "Journal entry for 2023-10-12:\n",
      "\n",
      "16:51:19 - Completion of LinearRegression Assignments\n",
      "\n",
      "\n",
      "--- Personal Journal ---\n",
      "1. Write a new journal entry\n",
      "2. View a journal entry by date\n",
      "0. Exit\n"
     ]
    },
    {
     "name": "stdin",
     "output_type": "stream",
     "text": [
      "Choose an option:  0\n"
     ]
    },
    {
     "name": "stdout",
     "output_type": "stream",
     "text": [
      "Exiting journal. Goodbye!\n"
     ]
    }
   ],
   "source": [
    "import os\n",
    "from datetime import datetime\n",
    "\n",
    "# Directory to store journal entries\n",
    "journal_directory = \"journal_entries\"\n",
    "\n",
    "# Ensure the directory exists\n",
    "if not os.path.exists(journal_directory):\n",
    "    os.makedirs(journal_directory)\n",
    "\n",
    "# Function to write a journal entry\n",
    "def write_journal():\n",
    "    # Get current date as the default date for the entry\n",
    "    date = input(\"Enter the date for the entry (YYYY-MM-DD) or press Enter for today's date: \")\n",
    "    if not date:\n",
    "        date = datetime.now().strftime('%Y-%m-%d')\n",
    "\n",
    "    entry = input(f\"Write your journal entry for {date}:\\n\")\n",
    "    \n",
    "    # Create a file named by the date, store the entry\n",
    "    file_name = f\"{journal_directory}/{date}.txt\"\n",
    "    with open(file_name, 'a') as file:\n",
    "        file.write(f\"{datetime.now().strftime('%H:%M:%S')} - {entry}\\n\")\n",
    "    \n",
    "    print(f\"Journal entry saved for {date}.\")\n",
    "\n",
    "# Function to view a journal entry by date\n",
    "def view_journal():\n",
    "    date = input(\"Enter the date of the journal entry you want to view (YYYY-MM-DD): \")\n",
    "    file_name = f\"{journal_directory}/{date}.txt\"\n",
    "    \n",
    "    if os.path.exists(file_name):\n",
    "        with open(file_name, 'r') as file:\n",
    "            print(f\"Journal entry for {date}:\\n\")\n",
    "            print(file.read())\n",
    "    else:\n",
    "        print(f\"No journal entry found for {date}.\")\n",
    "\n",
    "# Main menu\n",
    "def journal_menu():\n",
    "    while True:\n",
    "        print(\"\\n--- Personal Journal ---\")\n",
    "        print(\"1. Write a new journal entry\")\n",
    "        print(\"2. View a journal entry by date\")\n",
    "        print(\"0. Exit\")\n",
    "        \n",
    "        choice = input(\"Choose an option: \")\n",
    "        \n",
    "        if choice == '1':\n",
    "            write_journal()\n",
    "        elif choice == '2':\n",
    "            view_journal()\n",
    "        elif choice == '0':\n",
    "            print(\"Exiting journal. Goodbye!\")\n",
    "            break\n",
    "        else:\n",
    "            print(\"Invalid option, please try again.\")\n",
    "\n",
    "# Run the journal app\n",
    "journal_menu()\n"
   ]
  },
  {
   "cell_type": "code",
   "execution_count": null,
   "id": "0bd9dd35-9e05-4495-8f93-872b97811e05",
   "metadata": {},
   "outputs": [],
   "source": []
  }
 ],
 "metadata": {
  "kernelspec": {
   "display_name": "Python 3 (ipykernel)",
   "language": "python",
   "name": "python3"
  },
  "language_info": {
   "codemirror_mode": {
    "name": "ipython",
    "version": 3
   },
   "file_extension": ".py",
   "mimetype": "text/x-python",
   "name": "python",
   "nbconvert_exporter": "python",
   "pygments_lexer": "ipython3",
   "version": "3.12.4"
  }
 },
 "nbformat": 4,
 "nbformat_minor": 5
}
